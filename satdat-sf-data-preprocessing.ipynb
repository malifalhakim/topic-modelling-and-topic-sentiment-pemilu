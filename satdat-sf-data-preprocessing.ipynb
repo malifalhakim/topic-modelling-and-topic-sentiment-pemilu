{
 "cells": [
  {
   "cell_type": "markdown",
   "id": "7a0d35bc",
   "metadata": {
    "papermill": {
     "duration": 0.004374,
     "end_time": "2024-07-05T05:07:46.213683",
     "exception": false,
     "start_time": "2024-07-05T05:07:46.209309",
     "status": "completed"
    },
    "tags": []
   },
   "source": [
    "# 📚 *Libraries*"
   ]
  },
  {
   "cell_type": "code",
   "execution_count": 1,
   "id": "d8d32175",
   "metadata": {
    "execution": {
     "iopub.execute_input": "2024-07-05T05:07:46.223789Z",
     "iopub.status.busy": "2024-07-05T05:07:46.223364Z",
     "iopub.status.idle": "2024-07-05T05:08:03.715678Z",
     "shell.execute_reply": "2024-07-05T05:08:03.713708Z"
    },
    "papermill": {
     "duration": 17.501505,
     "end_time": "2024-07-05T05:08:03.719317",
     "exception": false,
     "start_time": "2024-07-05T05:07:46.217812",
     "status": "completed"
    },
    "tags": []
   },
   "outputs": [],
   "source": [
    "!pip install ftfy --quiet"
   ]
  },
  {
   "cell_type": "code",
   "execution_count": 2,
   "id": "00a13567",
   "metadata": {
    "execution": {
     "iopub.execute_input": "2024-07-05T05:08:03.729986Z",
     "iopub.status.busy": "2024-07-05T05:08:03.729520Z",
     "iopub.status.idle": "2024-07-05T05:08:07.622395Z",
     "shell.execute_reply": "2024-07-05T05:08:07.620805Z"
    },
    "papermill": {
     "duration": 3.902033,
     "end_time": "2024-07-05T05:08:07.625774",
     "exception": false,
     "start_time": "2024-07-05T05:08:03.723741",
     "status": "completed"
    },
    "tags": []
   },
   "outputs": [],
   "source": [
    "import pandas as pd\n",
    "import numpy as np\n",
    "import seaborn as sns\n",
    "import matplotlib.pyplot as plt\n",
    "import re\n",
    "import ftfy\n",
    "import dask.dataframe as dd"
   ]
  },
  {
   "cell_type": "code",
   "execution_count": 3,
   "id": "8b09ca72",
   "metadata": {
    "execution": {
     "iopub.execute_input": "2024-07-05T05:08:07.635955Z",
     "iopub.status.busy": "2024-07-05T05:08:07.635282Z",
     "iopub.status.idle": "2024-07-05T05:08:07.641452Z",
     "shell.execute_reply": "2024-07-05T05:08:07.640115Z"
    },
    "papermill": {
     "duration": 0.014353,
     "end_time": "2024-07-05T05:08:07.644263",
     "exception": false,
     "start_time": "2024-07-05T05:08:07.629910",
     "status": "completed"
    },
    "tags": []
   },
   "outputs": [],
   "source": [
    "import warnings\n",
    "\n",
    "# Nonaktifkan semua warning\n",
    "warnings.filterwarnings(\"ignore\")"
   ]
  },
  {
   "cell_type": "markdown",
   "id": "90a7c2e7",
   "metadata": {
    "papermill": {
     "duration": 0.003736,
     "end_time": "2024-07-05T05:08:07.652138",
     "exception": false,
     "start_time": "2024-07-05T05:08:07.648402",
     "status": "completed"
    },
    "tags": []
   },
   "source": [
    "# 🧹 *Clean Dataset*"
   ]
  },
  {
   "cell_type": "code",
   "execution_count": 4,
   "id": "84299a2d",
   "metadata": {
    "execution": {
     "iopub.execute_input": "2024-07-05T05:08:07.661643Z",
     "iopub.status.busy": "2024-07-05T05:08:07.661224Z",
     "iopub.status.idle": "2024-07-05T05:08:07.669040Z",
     "shell.execute_reply": "2024-07-05T05:08:07.667804Z"
    },
    "papermill": {
     "duration": 0.015494,
     "end_time": "2024-07-05T05:08:07.671545",
     "exception": false,
     "start_time": "2024-07-05T05:08:07.656051",
     "status": "completed"
    },
    "tags": []
   },
   "outputs": [],
   "source": [
    "csv_file = '/kaggle/input/semifinal-satria-data-bdc-2024/Dataset Semifinal BDC 2024.csv'\n",
    "\n",
    "def clean_tweet(tweet):\n",
    "    tweet = ftfy.fix_text(tweet)\n",
    "    tweet = re.sub(r'@[^ ]+', '', tweet)\n",
    "    tweet = re.sub(r'http\\S+|www\\S+', '', tweet)\n",
    "    tweet = tweet.replace('\\n', ' ')\n",
    "    tweet = re.sub(r'\\s+', ' ', tweet).strip()\n",
    "    tweet = tweet.lower()\n",
    "    tweet = re.sub(r'^rt', '', tweet)\n",
    "    return tweet.strip()"
   ]
  },
  {
   "cell_type": "code",
   "execution_count": 5,
   "id": "19b15561",
   "metadata": {
    "execution": {
     "iopub.execute_input": "2024-07-05T05:08:07.681266Z",
     "iopub.status.busy": "2024-07-05T05:08:07.680857Z",
     "iopub.status.idle": "2024-07-05T05:08:07.769685Z",
     "shell.execute_reply": "2024-07-05T05:08:07.768365Z"
    },
    "papermill": {
     "duration": 0.097161,
     "end_time": "2024-07-05T05:08:07.772738",
     "exception": false,
     "start_time": "2024-07-05T05:08:07.675577",
     "status": "completed"
    },
    "tags": []
   },
   "outputs": [],
   "source": [
    "# Load the dataset with Dask\n",
    "df = dd.read_csv(csv_file,assume_missing=True)"
   ]
  },
  {
   "cell_type": "code",
   "execution_count": 6,
   "id": "10e72f80",
   "metadata": {
    "execution": {
     "iopub.execute_input": "2024-07-05T05:08:07.782918Z",
     "iopub.status.busy": "2024-07-05T05:08:07.782465Z",
     "iopub.status.idle": "2024-07-05T05:08:07.795628Z",
     "shell.execute_reply": "2024-07-05T05:08:07.794118Z"
    },
    "papermill": {
     "duration": 0.021674,
     "end_time": "2024-07-05T05:08:07.798568",
     "exception": false,
     "start_time": "2024-07-05T05:08:07.776894",
     "status": "completed"
    },
    "tags": []
   },
   "outputs": [],
   "source": [
    "# Apply the cleaning function\n",
    "df['content'] = df['content'].apply(clean_tweet, meta=('content', 'str'))"
   ]
  },
  {
   "cell_type": "code",
   "execution_count": 7,
   "id": "366bd6ce",
   "metadata": {
    "execution": {
     "iopub.execute_input": "2024-07-05T05:08:07.808783Z",
     "iopub.status.busy": "2024-07-05T05:08:07.808336Z",
     "iopub.status.idle": "2024-07-05T05:08:07.823812Z",
     "shell.execute_reply": "2024-07-05T05:08:07.822300Z"
    },
    "papermill": {
     "duration": 0.024207,
     "end_time": "2024-07-05T05:08:07.826930",
     "exception": false,
     "start_time": "2024-07-05T05:08:07.802723",
     "status": "completed"
    },
    "tags": []
   },
   "outputs": [],
   "source": [
    "# Drop unnecessary columns\n",
    "df = df.drop(columns=['username', 'type', 'loc', 'lang'])\n",
    "df = df.dropna()"
   ]
  },
  {
   "cell_type": "code",
   "execution_count": 8,
   "id": "35bb1bbc",
   "metadata": {
    "execution": {
     "iopub.execute_input": "2024-07-05T05:08:07.837769Z",
     "iopub.status.busy": "2024-07-05T05:08:07.837375Z",
     "iopub.status.idle": "2024-07-05T06:20:17.819880Z",
     "shell.execute_reply": "2024-07-05T06:20:17.817698Z"
    },
    "papermill": {
     "duration": 4330.002169,
     "end_time": "2024-07-05T06:20:17.833604",
     "exception": false,
     "start_time": "2024-07-05T05:08:07.831435",
     "status": "completed"
    },
    "tags": []
   },
   "outputs": [
    {
     "data": {
      "text/plain": [
       "['/kaggle/working/preprocessed_dask.csv']"
      ]
     },
     "execution_count": 8,
     "metadata": {},
     "output_type": "execute_result"
    }
   ],
   "source": [
    "# Save the cleaned data to a new CSV file\n",
    "df.to_csv('preprocessed_dask.csv', single_file=True, index=False)"
   ]
  }
 ],
 "metadata": {
  "kaggle": {
   "accelerator": "none",
   "dataSources": [
    {
     "datasetId": 5302430,
     "sourceId": 8814842,
     "sourceType": "datasetVersion"
    }
   ],
   "dockerImageVersionId": 30732,
   "isGpuEnabled": false,
   "isInternetEnabled": true,
   "language": "python",
   "sourceType": "notebook"
  },
  "kernelspec": {
   "display_name": "Python 3",
   "language": "python",
   "name": "python3"
  },
  "language_info": {
   "codemirror_mode": {
    "name": "ipython",
    "version": 3
   },
   "file_extension": ".py",
   "mimetype": "text/x-python",
   "name": "python",
   "nbconvert_exporter": "python",
   "pygments_lexer": "ipython3",
   "version": "3.10.13"
  },
  "papermill": {
   "default_parameters": {},
   "duration": 4356.023431,
   "end_time": "2024-07-05T06:20:18.877224",
   "environment_variables": {},
   "exception": null,
   "input_path": "__notebook__.ipynb",
   "output_path": "__notebook__.ipynb",
   "parameters": {},
   "start_time": "2024-07-05T05:07:42.853793",
   "version": "2.5.0"
  }
 },
 "nbformat": 4,
 "nbformat_minor": 5
}
