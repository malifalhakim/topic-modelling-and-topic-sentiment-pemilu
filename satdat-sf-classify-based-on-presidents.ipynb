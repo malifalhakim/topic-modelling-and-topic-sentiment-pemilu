{
 "cells": [
  {
   "cell_type": "code",
   "execution_count": 1,
   "id": "d7d4c977",
   "metadata": {
    "execution": {
     "iopub.execute_input": "2024-07-07T10:07:20.457610Z",
     "iopub.status.busy": "2024-07-07T10:07:20.457219Z",
     "iopub.status.idle": "2024-07-07T10:07:23.947488Z",
     "shell.execute_reply": "2024-07-07T10:07:23.946282Z"
    },
    "papermill": {
     "duration": 3.499458,
     "end_time": "2024-07-07T10:07:23.950234",
     "exception": false,
     "start_time": "2024-07-07T10:07:20.450776",
     "status": "completed"
    },
    "tags": []
   },
   "outputs": [],
   "source": [
    "import pandas as pd\n",
    "import numpy as np\n",
    "import seaborn as sns\n",
    "import matplotlib.pyplot as plt\n",
    "import dask.dataframe as dd"
   ]
  },
  {
   "cell_type": "code",
   "execution_count": 2,
   "id": "aab800a7",
   "metadata": {
    "execution": {
     "iopub.execute_input": "2024-07-07T10:07:23.960035Z",
     "iopub.status.busy": "2024-07-07T10:07:23.959501Z",
     "iopub.status.idle": "2024-07-07T10:07:29.621618Z",
     "shell.execute_reply": "2024-07-07T10:07:29.620501Z"
    },
    "papermill": {
     "duration": 5.670157,
     "end_time": "2024-07-07T10:07:29.624590",
     "exception": false,
     "start_time": "2024-07-07T10:07:23.954433",
     "status": "completed"
    },
    "tags": []
   },
   "outputs": [
    {
     "name": "stderr",
     "output_type": "stream",
     "text": [
      "/opt/conda/lib/python3.10/site-packages/fuzzywuzzy/fuzz.py:11: UserWarning: Using slow pure-python SequenceMatcher. Install python-Levenshtein to remove this warning\n",
      "  warnings.warn('Using slow pure-python SequenceMatcher. Install python-Levenshtein to remove this warning')\n"
     ]
    }
   ],
   "source": [
    "import spacy\n",
    "from spacy.matcher import PhraseMatcher\n",
    "from fuzzywuzzy import process, fuzz"
   ]
  },
  {
   "cell_type": "code",
   "execution_count": 3,
   "id": "067ce054",
   "metadata": {
    "execution": {
     "iopub.execute_input": "2024-07-07T10:07:29.634664Z",
     "iopub.status.busy": "2024-07-07T10:07:29.633678Z",
     "iopub.status.idle": "2024-07-07T10:07:31.408225Z",
     "shell.execute_reply": "2024-07-07T10:07:31.407045Z"
    },
    "papermill": {
     "duration": 1.781984,
     "end_time": "2024-07-07T10:07:31.410547",
     "exception": false,
     "start_time": "2024-07-07T10:07:29.628563",
     "status": "completed"
    },
    "tags": []
   },
   "outputs": [
    {
     "data": {
      "text/html": [
       "<div>\n",
       "<style scoped>\n",
       "    .dataframe tbody tr th:only-of-type {\n",
       "        vertical-align: middle;\n",
       "    }\n",
       "\n",
       "    .dataframe tbody tr th {\n",
       "        vertical-align: top;\n",
       "    }\n",
       "\n",
       "    .dataframe thead th {\n",
       "        text-align: right;\n",
       "    }\n",
       "</style>\n",
       "<table border=\"1\" class=\"dataframe\">\n",
       "  <thead>\n",
       "    <tr style=\"text-align: right;\">\n",
       "      <th></th>\n",
       "      <th>created_at</th>\n",
       "      <th>tcode</th>\n",
       "      <th>num_retweets</th>\n",
       "      <th>frn_cnt</th>\n",
       "      <th>flw_cnt</th>\n",
       "      <th>sts_cnt</th>\n",
       "      <th>lst_cnt</th>\n",
       "      <th>content</th>\n",
       "    </tr>\n",
       "  </thead>\n",
       "  <tbody>\n",
       "    <tr>\n",
       "      <th>0</th>\n",
       "      <td>2024-01-04T09:57:09Z</td>\n",
       "      <td>rt</td>\n",
       "      <td>1248.0</td>\n",
       "      <td>266.0</td>\n",
       "      <td>107.0</td>\n",
       "      <td>9687.0</td>\n",
       "      <td>0.0</td>\n",
       "      <td>k-popers berencana kirim food truck untuk anie...</td>\n",
       "    </tr>\n",
       "    <tr>\n",
       "      <th>1</th>\n",
       "      <td>2024-01-04T09:57:09Z</td>\n",
       "      <td>rt</td>\n",
       "      <td>195.0</td>\n",
       "      <td>564.0</td>\n",
       "      <td>303.0</td>\n",
       "      <td>12461.0</td>\n",
       "      <td>2.0</td>\n",
       "      <td>bapak pendeta yusak ini dari magetan ke ponoro...</td>\n",
       "    </tr>\n",
       "    <tr>\n",
       "      <th>2</th>\n",
       "      <td>2024-01-04T09:57:10Z</td>\n",
       "      <td>rt</td>\n",
       "      <td>116.0</td>\n",
       "      <td>376.0</td>\n",
       "      <td>156.0</td>\n",
       "      <td>7488.0</td>\n",
       "      <td>1.0</td>\n",
       "      <td>viral , gimana mak mak di jakarta tidak ter an...</td>\n",
       "    </tr>\n",
       "    <tr>\n",
       "      <th>3</th>\n",
       "      <td>2024-01-04T09:57:10Z</td>\n",
       "      <td>rt</td>\n",
       "      <td>2264.0</td>\n",
       "      <td>163.0</td>\n",
       "      <td>203.0</td>\n",
       "      <td>2065.0</td>\n",
       "      <td>0.0</td>\n",
       "      <td>mendengar pak anies disini, rasanya saya sudah...</td>\n",
       "    </tr>\n",
       "    <tr>\n",
       "      <th>4</th>\n",
       "      <td>2024-01-04T09:57:11Z</td>\n",
       "      <td>rt</td>\n",
       "      <td>1157.0</td>\n",
       "      <td>1.0</td>\n",
       "      <td>1.0</td>\n",
       "      <td>798.0</td>\n",
       "      <td>0.0</td>\n",
       "      <td>media asing soroti cara anies gaet pemilih mud...</td>\n",
       "    </tr>\n",
       "  </tbody>\n",
       "</table>\n",
       "</div>"
      ],
      "text/plain": [
       "             created_at tcode  num_retweets  frn_cnt  flw_cnt  sts_cnt  \\\n",
       "0  2024-01-04T09:57:09Z    rt        1248.0    266.0    107.0   9687.0   \n",
       "1  2024-01-04T09:57:09Z    rt         195.0    564.0    303.0  12461.0   \n",
       "2  2024-01-04T09:57:10Z    rt         116.0    376.0    156.0   7488.0   \n",
       "3  2024-01-04T09:57:10Z    rt        2264.0    163.0    203.0   2065.0   \n",
       "4  2024-01-04T09:57:11Z    rt        1157.0      1.0      1.0    798.0   \n",
       "\n",
       "   lst_cnt                                            content  \n",
       "0      0.0  k-popers berencana kirim food truck untuk anie...  \n",
       "1      2.0  bapak pendeta yusak ini dari magetan ke ponoro...  \n",
       "2      1.0  viral , gimana mak mak di jakarta tidak ter an...  \n",
       "3      0.0  mendengar pak anies disini, rasanya saya sudah...  \n",
       "4      0.0  media asing soroti cara anies gaet pemilih mud...  "
      ]
     },
     "execution_count": 3,
     "metadata": {},
     "output_type": "execute_result"
    }
   ],
   "source": [
    "df = dd.read_csv('/kaggle/input/preprocessed-satdat-dataset/preprocessed_dask.csv')\n",
    "df.head()"
   ]
  },
  {
   "cell_type": "code",
   "execution_count": 4,
   "id": "78dbf57c",
   "metadata": {
    "execution": {
     "iopub.execute_input": "2024-07-07T10:07:31.421141Z",
     "iopub.status.busy": "2024-07-07T10:07:31.420160Z",
     "iopub.status.idle": "2024-07-07T10:07:31.427576Z",
     "shell.execute_reply": "2024-07-07T10:07:31.426404Z"
    },
    "papermill": {
     "duration": 0.014857,
     "end_time": "2024-07-07T10:07:31.429655",
     "exception": false,
     "start_time": "2024-07-07T10:07:31.414798",
     "status": "completed"
    },
    "tags": []
   },
   "outputs": [],
   "source": [
    "# drop content yang kosong akibat diclean\n",
    "\n",
    "df = df.dropna()"
   ]
  },
  {
   "cell_type": "code",
   "execution_count": 5,
   "id": "28fd9f61",
   "metadata": {
    "execution": {
     "iopub.execute_input": "2024-07-07T10:07:31.440211Z",
     "iopub.status.busy": "2024-07-07T10:07:31.439174Z",
     "iopub.status.idle": "2024-07-07T10:07:35.666802Z",
     "shell.execute_reply": "2024-07-07T10:07:35.665603Z"
    },
    "papermill": {
     "duration": 4.235488,
     "end_time": "2024-07-07T10:07:35.669327",
     "exception": false,
     "start_time": "2024-07-07T10:07:31.433839",
     "status": "completed"
    },
    "tags": []
   },
   "outputs": [],
   "source": [
    "nlp = spacy.blank(\"id\")\n",
    "matcher = PhraseMatcher(nlp.vocab, attr=\"LOWER\")"
   ]
  },
  {
   "cell_type": "code",
   "execution_count": 6,
   "id": "c7315bf9",
   "metadata": {
    "execution": {
     "iopub.execute_input": "2024-07-07T10:07:35.680128Z",
     "iopub.status.busy": "2024-07-07T10:07:35.679754Z",
     "iopub.status.idle": "2024-07-07T10:07:35.685419Z",
     "shell.execute_reply": "2024-07-07T10:07:35.684403Z"
    },
    "papermill": {
     "duration": 0.013535,
     "end_time": "2024-07-07T10:07:35.687566",
     "exception": false,
     "start_time": "2024-07-07T10:07:35.674031",
     "status": "completed"
    },
    "tags": []
   },
   "outputs": [],
   "source": [
    "candidate_keywords = {\n",
    "    \"paslon 1\": [\"paslon 1\", \"calon 1\", \"paslon 01\",'anies','anis','baswedan','muhaimin','iskandar','cak imin','imin','amin','anies-muhamin'],\n",
    "    \"paslon 2\": [\"paslon 2\", \"calon 2\", \"paslon 02\",'prabowo','subianto','gibran','rakabuming','pragib','prabowo-gibran'],\n",
    "    \"paslon 3\": [\"paslon 3\", \"calon 3\", \"paslon 03\", \"ganjar\",'pranowo','mahfud md','mahfud','ganjar-mahfud']\n",
    "}"
   ]
  },
  {
   "cell_type": "code",
   "execution_count": 7,
   "id": "d664c1c2",
   "metadata": {
    "execution": {
     "iopub.execute_input": "2024-07-07T10:07:35.697265Z",
     "iopub.status.busy": "2024-07-07T10:07:35.696856Z",
     "iopub.status.idle": "2024-07-07T10:07:35.704608Z",
     "shell.execute_reply": "2024-07-07T10:07:35.703569Z"
    },
    "papermill": {
     "duration": 0.015192,
     "end_time": "2024-07-07T10:07:35.706858",
     "exception": false,
     "start_time": "2024-07-07T10:07:35.691666",
     "status": "completed"
    },
    "tags": []
   },
   "outputs": [],
   "source": [
    "for candidate, patterns in candidate_keywords.items():\n",
    "    matcher.add(candidate, [nlp.make_doc(text) for text in patterns])"
   ]
  },
  {
   "cell_type": "code",
   "execution_count": 8,
   "id": "69cac4d0",
   "metadata": {
    "execution": {
     "iopub.execute_input": "2024-07-07T10:07:35.717075Z",
     "iopub.status.busy": "2024-07-07T10:07:35.716207Z",
     "iopub.status.idle": "2024-07-07T10:07:35.723784Z",
     "shell.execute_reply": "2024-07-07T10:07:35.722446Z"
    },
    "papermill": {
     "duration": 0.015245,
     "end_time": "2024-07-07T10:07:35.726218",
     "exception": false,
     "start_time": "2024-07-07T10:07:35.710973",
     "status": "completed"
    },
    "tags": []
   },
   "outputs": [],
   "source": [
    "def classify_candidates_combined(text):\n",
    "    doc = nlp(text)\n",
    "    matches = matcher(doc)\n",
    "    \n",
    "    # Initialize the classifications dictionary with False\n",
    "    classifications = {candidate: False for candidate in candidate_keywords}\n",
    "    \n",
    "    # Update the classifications dictionary based on matches\n",
    "    for match_id, start, end in matches:\n",
    "        candidate = nlp.vocab.strings[match_id]\n",
    "        classifications[candidate] = True\n",
    "    \n",
    "    # If no exact matches found, use fuzzy matching\n",
    "    if not any(classifications.values()):\n",
    "        for candidate, keywords in candidate_keywords.items():\n",
    "            match = process.extractOne(text, keywords, scorer=fuzz.partial_ratio)\n",
    "            if match and match[1] > 80:  # Threshold for matching\n",
    "                classifications[candidate] = True\n",
    "    \n",
    "    return classifications"
   ]
  },
  {
   "cell_type": "code",
   "execution_count": 9,
   "id": "91caf33d",
   "metadata": {
    "execution": {
     "iopub.execute_input": "2024-07-07T10:07:35.736271Z",
     "iopub.status.busy": "2024-07-07T10:07:35.735848Z",
     "iopub.status.idle": "2024-07-07T10:07:35.742260Z",
     "shell.execute_reply": "2024-07-07T10:07:35.741037Z"
    },
    "papermill": {
     "duration": 0.013932,
     "end_time": "2024-07-07T10:07:35.744476",
     "exception": false,
     "start_time": "2024-07-07T10:07:35.730544",
     "status": "completed"
    },
    "tags": []
   },
   "outputs": [],
   "source": [
    "def cek_is_paslon_1(text):\n",
    "    result = classify_candidates_combined(text)\n",
    "    if result['paslon 1']:\n",
    "        return 1\n",
    "    return 0\n",
    "\n",
    "def cek_is_paslon_2(text):\n",
    "    result = classify_candidates_combined(text)\n",
    "    if result['paslon 2']:\n",
    "        return 1\n",
    "    return 0\n",
    "\n",
    "def cek_is_paslon_3(text):\n",
    "    result = classify_candidates_combined(text)\n",
    "    if result['paslon 3']:\n",
    "        return 1\n",
    "    return 0"
   ]
  },
  {
   "cell_type": "code",
   "execution_count": 10,
   "id": "407c82d8",
   "metadata": {
    "execution": {
     "iopub.execute_input": "2024-07-07T10:07:35.755338Z",
     "iopub.status.busy": "2024-07-07T10:07:35.754277Z",
     "iopub.status.idle": "2024-07-07T10:07:35.859467Z",
     "shell.execute_reply": "2024-07-07T10:07:35.858227Z"
    },
    "papermill": {
     "duration": 0.114013,
     "end_time": "2024-07-07T10:07:35.862856",
     "exception": false,
     "start_time": "2024-07-07T10:07:35.748843",
     "status": "completed"
    },
    "tags": []
   },
   "outputs": [],
   "source": [
    "df['is_paslon_1'] = df['content'].apply(cek_is_paslon_1,meta=('is_paslon_1', 'int8'))"
   ]
  },
  {
   "cell_type": "code",
   "execution_count": 11,
   "id": "d94ef2fc",
   "metadata": {
    "execution": {
     "iopub.execute_input": "2024-07-07T10:07:35.874071Z",
     "iopub.status.busy": "2024-07-07T10:07:35.873095Z",
     "iopub.status.idle": "2024-07-07T10:07:35.966026Z",
     "shell.execute_reply": "2024-07-07T10:07:35.965001Z"
    },
    "papermill": {
     "duration": 0.101116,
     "end_time": "2024-07-07T10:07:35.968725",
     "exception": false,
     "start_time": "2024-07-07T10:07:35.867609",
     "status": "completed"
    },
    "tags": []
   },
   "outputs": [],
   "source": [
    "df['is_paslon_2'] = df['content'].apply(cek_is_paslon_2,meta=('is_paslon_2', 'int8'))"
   ]
  },
  {
   "cell_type": "code",
   "execution_count": 12,
   "id": "c92eea36",
   "metadata": {
    "execution": {
     "iopub.execute_input": "2024-07-07T10:07:35.978856Z",
     "iopub.status.busy": "2024-07-07T10:07:35.978467Z",
     "iopub.status.idle": "2024-07-07T10:07:36.083407Z",
     "shell.execute_reply": "2024-07-07T10:07:36.082158Z"
    },
    "papermill": {
     "duration": 0.11282,
     "end_time": "2024-07-07T10:07:36.085880",
     "exception": false,
     "start_time": "2024-07-07T10:07:35.973060",
     "status": "completed"
    },
    "tags": []
   },
   "outputs": [],
   "source": [
    "df['is_paslon_3'] = df['content'].apply(cek_is_paslon_3,meta=('is_paslon_3', 'int8'))"
   ]
  },
  {
   "cell_type": "code",
   "execution_count": 13,
   "id": "55d198bc",
   "metadata": {
    "execution": {
     "iopub.execute_input": "2024-07-07T10:07:36.100741Z",
     "iopub.status.busy": "2024-07-07T10:07:36.099979Z",
     "iopub.status.idle": "2024-07-07T13:36:09.109834Z",
     "shell.execute_reply": "2024-07-07T13:36:09.108174Z"
    },
    "papermill": {
     "duration": 12513.031431,
     "end_time": "2024-07-07T13:36:09.124273",
     "exception": false,
     "start_time": "2024-07-07T10:07:36.092842",
     "status": "completed"
    },
    "tags": []
   },
   "outputs": [
    {
     "data": {
      "text/plain": [
       "['/kaggle/working/classify_president.csv']"
      ]
     },
     "execution_count": 13,
     "metadata": {},
     "output_type": "execute_result"
    }
   ],
   "source": [
    "df.to_csv('classify_president.csv', single_file=True, index=False)"
   ]
  },
  {
   "cell_type": "code",
   "execution_count": 14,
   "id": "da994a66",
   "metadata": {
    "execution": {
     "iopub.execute_input": "2024-07-07T13:36:09.136785Z",
     "iopub.status.busy": "2024-07-07T13:36:09.136215Z",
     "iopub.status.idle": "2024-07-07T20:50:23.427510Z",
     "shell.execute_reply": "2024-07-07T20:50:23.425458Z"
    },
    "papermill": {
     "duration": 26054.306418,
     "end_time": "2024-07-07T20:50:23.435420",
     "exception": false,
     "start_time": "2024-07-07T13:36:09.129002",
     "status": "completed"
    },
    "tags": []
   },
   "outputs": [
    {
     "name": "stdout",
     "output_type": "stream",
     "text": [
      "Total baris : 346892\n"
     ]
    }
   ],
   "source": [
    "try:\n",
    "    unidentified_df = df[(df['is_paslon_1'] == 0) & (df['is_paslon_2'] == 0) & (df['is_paslon_3'] == 0)]\n",
    "    total_rows = unidentified_df.shape[0].compute()\n",
    "    unidentified_df.to_csv('unidentified_president.csv', single_file=True, index=False)\n",
    "    print(f\"Total baris : {total_rows}\")\n",
    "except:\n",
    "    print(\"Error\")"
   ]
  }
 ],
 "metadata": {
  "kaggle": {
   "accelerator": "none",
   "dataSources": [
    {
     "datasetId": 5335248,
     "sourceId": 8870115,
     "sourceType": "datasetVersion"
    }
   ],
   "dockerImageVersionId": 30732,
   "isGpuEnabled": false,
   "isInternetEnabled": true,
   "language": "python",
   "sourceType": "notebook"
  },
  "kernelspec": {
   "display_name": "Python 3",
   "language": "python",
   "name": "python3"
  },
  "language_info": {
   "codemirror_mode": {
    "name": "ipython",
    "version": 3
   },
   "file_extension": ".py",
   "mimetype": "text/x-python",
   "name": "python",
   "nbconvert_exporter": "python",
   "pygments_lexer": "ipython3",
   "version": "3.10.13"
  },
  "papermill": {
   "default_parameters": {},
   "duration": 38588.682741,
   "end_time": "2024-07-07T20:50:26.164308",
   "environment_variables": {},
   "exception": null,
   "input_path": "__notebook__.ipynb",
   "output_path": "__notebook__.ipynb",
   "parameters": {},
   "start_time": "2024-07-07T10:07:17.481567",
   "version": "2.5.0"
  }
 },
 "nbformat": 4,
 "nbformat_minor": 5
}
