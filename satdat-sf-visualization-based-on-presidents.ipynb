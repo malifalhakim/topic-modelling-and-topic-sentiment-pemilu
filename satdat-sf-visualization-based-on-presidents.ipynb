{
 "cells": [
  {
   "cell_type": "code",
   "execution_count": 1,
   "id": "4b313e45",
   "metadata": {
    "execution": {
     "iopub.execute_input": "2024-07-08T03:20:42.884161Z",
     "iopub.status.busy": "2024-07-08T03:20:42.883726Z",
     "iopub.status.idle": "2024-07-08T03:20:46.155512Z",
     "shell.execute_reply": "2024-07-08T03:20:46.154505Z"
    },
    "papermill": {
     "duration": 3.279956,
     "end_time": "2024-07-08T03:20:46.158279",
     "exception": false,
     "start_time": "2024-07-08T03:20:42.878323",
     "status": "completed"
    },
    "tags": []
   },
   "outputs": [],
   "source": [
    "import pandas as pd\n",
    "import numpy as np\n",
    "import seaborn as sns\n",
    "import matplotlib.pyplot as plt\n",
    "import dask.dataframe as dd"
   ]
  },
  {
   "cell_type": "code",
   "execution_count": 2,
   "id": "faae7935",
   "metadata": {
    "execution": {
     "iopub.execute_input": "2024-07-08T03:20:46.167935Z",
     "iopub.status.busy": "2024-07-08T03:20:46.166656Z",
     "iopub.status.idle": "2024-07-08T03:20:48.098113Z",
     "shell.execute_reply": "2024-07-08T03:20:48.096702Z"
    },
    "papermill": {
     "duration": 1.938812,
     "end_time": "2024-07-08T03:20:48.100675",
     "exception": false,
     "start_time": "2024-07-08T03:20:46.161863",
     "status": "completed"
    },
    "tags": []
   },
   "outputs": [
    {
     "data": {
      "text/html": [
       "<div>\n",
       "<style scoped>\n",
       "    .dataframe tbody tr th:only-of-type {\n",
       "        vertical-align: middle;\n",
       "    }\n",
       "\n",
       "    .dataframe tbody tr th {\n",
       "        vertical-align: top;\n",
       "    }\n",
       "\n",
       "    .dataframe thead th {\n",
       "        text-align: right;\n",
       "    }\n",
       "</style>\n",
       "<table border=\"1\" class=\"dataframe\">\n",
       "  <thead>\n",
       "    <tr style=\"text-align: right;\">\n",
       "      <th></th>\n",
       "      <th>created_at</th>\n",
       "      <th>tcode</th>\n",
       "      <th>num_retweets</th>\n",
       "      <th>frn_cnt</th>\n",
       "      <th>flw_cnt</th>\n",
       "      <th>sts_cnt</th>\n",
       "      <th>lst_cnt</th>\n",
       "      <th>content</th>\n",
       "      <th>is_paslon_1</th>\n",
       "      <th>is_paslon_2</th>\n",
       "      <th>is_paslon_3</th>\n",
       "    </tr>\n",
       "  </thead>\n",
       "  <tbody>\n",
       "    <tr>\n",
       "      <th>0</th>\n",
       "      <td>2024-01-04T09:57:09Z</td>\n",
       "      <td>rt</td>\n",
       "      <td>1248.0</td>\n",
       "      <td>266.0</td>\n",
       "      <td>107.0</td>\n",
       "      <td>9687.0</td>\n",
       "      <td>0.0</td>\n",
       "      <td>k-popers berencana kirim food truck untuk anie...</td>\n",
       "      <td>1</td>\n",
       "      <td>0</td>\n",
       "      <td>0</td>\n",
       "    </tr>\n",
       "    <tr>\n",
       "      <th>1</th>\n",
       "      <td>2024-01-04T09:57:09Z</td>\n",
       "      <td>rt</td>\n",
       "      <td>195.0</td>\n",
       "      <td>564.0</td>\n",
       "      <td>303.0</td>\n",
       "      <td>12461.0</td>\n",
       "      <td>2.0</td>\n",
       "      <td>bapak pendeta yusak ini dari magetan ke ponoro...</td>\n",
       "      <td>1</td>\n",
       "      <td>0</td>\n",
       "      <td>0</td>\n",
       "    </tr>\n",
       "    <tr>\n",
       "      <th>2</th>\n",
       "      <td>2024-01-04T09:57:10Z</td>\n",
       "      <td>rt</td>\n",
       "      <td>116.0</td>\n",
       "      <td>376.0</td>\n",
       "      <td>156.0</td>\n",
       "      <td>7488.0</td>\n",
       "      <td>1.0</td>\n",
       "      <td>viral , gimana mak mak di jakarta tidak ter an...</td>\n",
       "      <td>1</td>\n",
       "      <td>0</td>\n",
       "      <td>0</td>\n",
       "    </tr>\n",
       "    <tr>\n",
       "      <th>3</th>\n",
       "      <td>2024-01-04T09:57:10Z</td>\n",
       "      <td>rt</td>\n",
       "      <td>2264.0</td>\n",
       "      <td>163.0</td>\n",
       "      <td>203.0</td>\n",
       "      <td>2065.0</td>\n",
       "      <td>0.0</td>\n",
       "      <td>mendengar pak anies disini, rasanya saya sudah...</td>\n",
       "      <td>1</td>\n",
       "      <td>0</td>\n",
       "      <td>0</td>\n",
       "    </tr>\n",
       "    <tr>\n",
       "      <th>4</th>\n",
       "      <td>2024-01-04T09:57:11Z</td>\n",
       "      <td>rt</td>\n",
       "      <td>1157.0</td>\n",
       "      <td>1.0</td>\n",
       "      <td>1.0</td>\n",
       "      <td>798.0</td>\n",
       "      <td>0.0</td>\n",
       "      <td>media asing soroti cara anies gaet pemilih mud...</td>\n",
       "      <td>1</td>\n",
       "      <td>0</td>\n",
       "      <td>0</td>\n",
       "    </tr>\n",
       "  </tbody>\n",
       "</table>\n",
       "</div>"
      ],
      "text/plain": [
       "             created_at tcode  num_retweets  frn_cnt  flw_cnt  sts_cnt  \\\n",
       "0  2024-01-04T09:57:09Z    rt        1248.0    266.0    107.0   9687.0   \n",
       "1  2024-01-04T09:57:09Z    rt         195.0    564.0    303.0  12461.0   \n",
       "2  2024-01-04T09:57:10Z    rt         116.0    376.0    156.0   7488.0   \n",
       "3  2024-01-04T09:57:10Z    rt        2264.0    163.0    203.0   2065.0   \n",
       "4  2024-01-04T09:57:11Z    rt        1157.0      1.0      1.0    798.0   \n",
       "\n",
       "   lst_cnt                                            content  is_paslon_1  \\\n",
       "0      0.0  k-popers berencana kirim food truck untuk anie...            1   \n",
       "1      2.0  bapak pendeta yusak ini dari magetan ke ponoro...            1   \n",
       "2      1.0  viral , gimana mak mak di jakarta tidak ter an...            1   \n",
       "3      0.0  mendengar pak anies disini, rasanya saya sudah...            1   \n",
       "4      0.0  media asing soroti cara anies gaet pemilih mud...            1   \n",
       "\n",
       "   is_paslon_2  is_paslon_3  \n",
       "0            0            0  \n",
       "1            0            0  \n",
       "2            0            0  \n",
       "3            0            0  \n",
       "4            0            0  "
      ]
     },
     "execution_count": 2,
     "metadata": {},
     "output_type": "execute_result"
    }
   ],
   "source": [
    "df = dd.read_csv('/kaggle/input/classify-dataset-based-on-president-satria-data-sf/classify_president.csv')\n",
    "df.head()"
   ]
  },
  {
   "cell_type": "code",
   "execution_count": 3,
   "id": "601065f7",
   "metadata": {
    "execution": {
     "iopub.execute_input": "2024-07-08T03:20:48.110863Z",
     "iopub.status.busy": "2024-07-08T03:20:48.110439Z",
     "iopub.status.idle": "2024-07-08T03:20:50.249687Z",
     "shell.execute_reply": "2024-07-08T03:20:50.248603Z"
    },
    "papermill": {
     "duration": 2.147587,
     "end_time": "2024-07-08T03:20:50.252386",
     "exception": false,
     "start_time": "2024-07-08T03:20:48.104799",
     "status": "completed"
    },
    "tags": []
   },
   "outputs": [
    {
     "data": {
      "text/html": [
       "<div>\n",
       "<style scoped>\n",
       "    .dataframe tbody tr th:only-of-type {\n",
       "        vertical-align: middle;\n",
       "    }\n",
       "\n",
       "    .dataframe tbody tr th {\n",
       "        vertical-align: top;\n",
       "    }\n",
       "\n",
       "    .dataframe thead th {\n",
       "        text-align: right;\n",
       "    }\n",
       "</style>\n",
       "<table border=\"1\" class=\"dataframe\">\n",
       "  <thead>\n",
       "    <tr style=\"text-align: right;\">\n",
       "      <th></th>\n",
       "      <th>created_at</th>\n",
       "      <th>tcode</th>\n",
       "      <th>num_retweets</th>\n",
       "      <th>frn_cnt</th>\n",
       "      <th>flw_cnt</th>\n",
       "      <th>sts_cnt</th>\n",
       "      <th>lst_cnt</th>\n",
       "      <th>content</th>\n",
       "      <th>is_paslon_1</th>\n",
       "      <th>is_paslon_2</th>\n",
       "      <th>is_paslon_3</th>\n",
       "    </tr>\n",
       "  </thead>\n",
       "  <tbody>\n",
       "    <tr>\n",
       "      <th>0</th>\n",
       "      <td>2024-01-04T09:57:42Z</td>\n",
       "      <td>reply</td>\n",
       "      <td>0.0</td>\n",
       "      <td>103.0</td>\n",
       "      <td>33.0</td>\n",
       "      <td>1784.0</td>\n",
       "      <td>5.0</td>\n",
       "      <td>banjirr lah.. womg yg pasang bawa baliho 1 truk</td>\n",
       "      <td>0</td>\n",
       "      <td>0</td>\n",
       "      <td>0</td>\n",
       "    </tr>\n",
       "    <tr>\n",
       "      <th>1</th>\n",
       "      <td>2024-01-04T09:58:06Z</td>\n",
       "      <td>reply</td>\n",
       "      <td>0.0</td>\n",
       "      <td>236.0</td>\n",
       "      <td>2031.0</td>\n",
       "      <td>72251.0</td>\n",
       "      <td>7.0</td>\n",
       "      <td>ampe enek lihatnya</td>\n",
       "      <td>0</td>\n",
       "      <td>0</td>\n",
       "      <td>0</td>\n",
       "    </tr>\n",
       "    <tr>\n",
       "      <th>2</th>\n",
       "      <td>2024-01-04T09:58:22Z</td>\n",
       "      <td>rt</td>\n",
       "      <td>1172.0</td>\n",
       "      <td>431.0</td>\n",
       "      <td>271.0</td>\n",
       "      <td>9977.0</td>\n",
       "      <td>0.0</td>\n",
       "      <td>selamatkan bangsa ini dgn cara tidak memilih [...</td>\n",
       "      <td>0</td>\n",
       "      <td>0</td>\n",
       "      <td>0</td>\n",
       "    </tr>\n",
       "    <tr>\n",
       "      <th>3</th>\n",
       "      <td>2024-01-04T10:01:17Z</td>\n",
       "      <td>rt</td>\n",
       "      <td>1236.0</td>\n",
       "      <td>280.0</td>\n",
       "      <td>1644.0</td>\n",
       "      <td>4733.0</td>\n",
       "      <td>0.0</td>\n",
       "      <td>selamatkan bangsa ini dgn cara tidak memilih [...</td>\n",
       "      <td>0</td>\n",
       "      <td>0</td>\n",
       "      <td>0</td>\n",
       "    </tr>\n",
       "    <tr>\n",
       "      <th>4</th>\n",
       "      <td>2024-01-04T10:02:09Z</td>\n",
       "      <td>reply</td>\n",
       "      <td>0.0</td>\n",
       "      <td>508.0</td>\n",
       "      <td>280.0</td>\n",
       "      <td>13528.0</td>\n",
       "      <td>0.0</td>\n",
       "      <td>kenapa gak pake photo asli? apa malu?</td>\n",
       "      <td>0</td>\n",
       "      <td>0</td>\n",
       "      <td>0</td>\n",
       "    </tr>\n",
       "  </tbody>\n",
       "</table>\n",
       "</div>"
      ],
      "text/plain": [
       "             created_at  tcode  num_retweets  frn_cnt  flw_cnt  sts_cnt  \\\n",
       "0  2024-01-04T09:57:42Z  reply           0.0    103.0     33.0   1784.0   \n",
       "1  2024-01-04T09:58:06Z  reply           0.0    236.0   2031.0  72251.0   \n",
       "2  2024-01-04T09:58:22Z     rt        1172.0    431.0    271.0   9977.0   \n",
       "3  2024-01-04T10:01:17Z     rt        1236.0    280.0   1644.0   4733.0   \n",
       "4  2024-01-04T10:02:09Z  reply           0.0    508.0    280.0  13528.0   \n",
       "\n",
       "   lst_cnt                                            content  is_paslon_1  \\\n",
       "0      5.0    banjirr lah.. womg yg pasang bawa baliho 1 truk            0   \n",
       "1      7.0                                 ampe enek lihatnya            0   \n",
       "2      0.0  selamatkan bangsa ini dgn cara tidak memilih [...            0   \n",
       "3      0.0  selamatkan bangsa ini dgn cara tidak memilih [...            0   \n",
       "4      0.0              kenapa gak pake photo asli? apa malu?            0   \n",
       "\n",
       "   is_paslon_2  is_paslon_3  \n",
       "0            0            0  \n",
       "1            0            0  \n",
       "2            0            0  \n",
       "3            0            0  \n",
       "4            0            0  "
      ]
     },
     "execution_count": 3,
     "metadata": {},
     "output_type": "execute_result"
    }
   ],
   "source": [
    "unidentified_df = dd.read_csv('/kaggle/input/classify-dataset-based-on-president-satria-data-sf/unidentified_president.csv')\n",
    "unidentified_df.head()"
   ]
  },
  {
   "cell_type": "code",
   "execution_count": 4,
   "id": "0412c179",
   "metadata": {
    "execution": {
     "iopub.execute_input": "2024-07-08T03:20:50.262383Z",
     "iopub.status.busy": "2024-07-08T03:20:50.261965Z",
     "iopub.status.idle": "2024-07-08T03:27:57.368180Z",
     "shell.execute_reply": "2024-07-08T03:27:57.366906Z"
    },
    "papermill": {
     "duration": 427.114453,
     "end_time": "2024-07-08T03:27:57.371080",
     "exception": false,
     "start_time": "2024-07-08T03:20:50.256627",
     "status": "completed"
    },
    "tags": []
   },
   "outputs": [],
   "source": [
    "# Inclusive\n",
    "\n",
    "total_paslon_1 = df[df['is_paslon_1'] == 1].shape[0].compute()\n",
    "total_paslon_2 = df[df['is_paslon_2'] == 1].shape[0].compute()\n",
    "total_paslon_3 = df[df['is_paslon_3'] == 1].shape[0].compute()\n",
    "\n",
    "total_paslon_1_2 = df[(df['is_paslon_1'] == 1) & (df['is_paslon_2'] == 1)].shape[0].compute()\n",
    "total_paslon_1_3 = df[(df['is_paslon_1'] == 1) & (df['is_paslon_3'] == 1)].shape[0].compute()\n",
    "total_paslon_2_3 = df[(df['is_paslon_2'] == 1) & (df['is_paslon_3'] == 1)].shape[0].compute()\n",
    "\n",
    "total_paslon_1_2_3 = df[(df['is_paslon_1'] == 1) & (df['is_paslon_2'] == 1) & (df['is_paslon_3'] == 1)].shape[0].compute()\n",
    "total_unidentified = unidentified_df.shape[0].compute()"
   ]
  },
  {
   "cell_type": "code",
   "execution_count": 5,
   "id": "b3815e71",
   "metadata": {
    "execution": {
     "iopub.execute_input": "2024-07-08T03:27:57.381203Z",
     "iopub.status.busy": "2024-07-08T03:27:57.380799Z",
     "iopub.status.idle": "2024-07-08T03:27:57.387898Z",
     "shell.execute_reply": "2024-07-08T03:27:57.386858Z"
    },
    "papermill": {
     "duration": 0.014854,
     "end_time": "2024-07-08T03:27:57.390510",
     "exception": false,
     "start_time": "2024-07-08T03:27:57.375656",
     "status": "completed"
    },
    "tags": []
   },
   "outputs": [
    {
     "name": "stdout",
     "output_type": "stream",
     "text": [
      "Total Paslon 1: 4797702\n",
      "Total Paslon 2: 3284350\n",
      "Total Paslon 3: 2888291\n",
      "Total Paslon 1 dan 2: 817000\n",
      "Total Paslon 1 dan 3: 512682\n",
      "Total Paslon 2 dan 3: 479462\n",
      "Total Paslon 1, 2, dan 3: 299844\n",
      "Unidentified : 346892\n"
     ]
    }
   ],
   "source": [
    "# Print hasil perhitungan\n",
    "\n",
    "print(f\"Total Paslon 1: {total_paslon_1}\")\n",
    "print(f\"Total Paslon 2: {total_paslon_2}\")\n",
    "print(f\"Total Paslon 3: {total_paslon_3}\")\n",
    "\n",
    "print(f\"Total Paslon 1 dan 2: {total_paslon_1_2}\")\n",
    "print(f\"Total Paslon 1 dan 3: {total_paslon_1_3}\")\n",
    "print(f\"Total Paslon 2 dan 3: {total_paslon_2_3}\")\n",
    "\n",
    "print(f\"Total Paslon 1, 2, dan 3: {total_paslon_1_2_3}\")\n",
    "print(f\"Unidentified : {total_unidentified}\")"
   ]
  },
  {
   "cell_type": "code",
   "execution_count": 6,
   "id": "b2d2f3fa",
   "metadata": {
    "execution": {
     "iopub.execute_input": "2024-07-08T03:27:57.400183Z",
     "iopub.status.busy": "2024-07-08T03:27:57.399774Z",
     "iopub.status.idle": "2024-07-08T03:27:57.764278Z",
     "shell.execute_reply": "2024-07-08T03:27:57.763141Z"
    },
    "papermill": {
     "duration": 0.372317,
     "end_time": "2024-07-08T03:27:57.766738",
     "exception": false,
     "start_time": "2024-07-08T03:27:57.394421",
     "status": "completed"
    },
    "tags": []
   },
   "outputs": [
    {
     "data": {
      "image/png": "[encoded data removed]",
      "text/plain": [
       "<Figure size 1000x600 with 1 Axes>"
      ]
     },
     "metadata": {},
     "output_type": "display_data"
    }
   ],
   "source": [
    "# Membuat plot menggunakan Matplotlib\n",
    "\n",
    "labels = ['Paslon 1', 'Paslon 2', 'Paslon 3', 'Paslon 1 & 2', 'Paslon 1 & 3', 'Paslon 2 & 3', 'Paslon 1, 2, & 3','Unidentified']\n",
    "values = [total_paslon_1, total_paslon_2, total_paslon_3, total_paslon_1_2, total_paslon_1_3, total_paslon_2_3, total_paslon_1_2_3,total_unidentified]\n",
    "\n",
    "plt.figure(figsize=(10, 6))\n",
    "plt.bar(labels, values, color=['blue', 'green', 'red', 'cyan', 'magenta', 'yellow', 'purple','black'])\n",
    "\n",
    "plt.xlabel('Kategori')\n",
    "plt.ylabel('Jumlah')\n",
    "plt.title('Total Jumlah Pasangan Kandidat')\n",
    "plt.xticks(rotation=45)\n",
    "plt.tight_layout()\n",
    "\n",
    "# Menampilkan plot\n",
    "plt.show()"
   ]
  },
  {
   "cell_type": "code",
   "execution_count": 7,
   "id": "0ad7593a",
   "metadata": {
    "execution": {
     "iopub.execute_input": "2024-07-08T03:27:57.777395Z",
     "iopub.status.busy": "2024-07-08T03:27:57.776973Z",
     "iopub.status.idle": "2024-07-08T03:35:00.403799Z",
     "shell.execute_reply": "2024-07-08T03:35:00.402612Z"
    },
    "papermill": {
     "duration": 422.635471,
     "end_time": "2024-07-08T03:35:00.406663",
     "exception": false,
     "start_time": "2024-07-08T03:27:57.771192",
     "status": "completed"
    },
    "tags": []
   },
   "outputs": [],
   "source": [
    "# Exclusive\n",
    "\n",
    "total_paslon_1 = df[(df['is_paslon_1'] == 1) & (df['is_paslon_2'] == 0) & (df['is_paslon_3'] == 0)].shape[0].compute()\n",
    "total_paslon_2 = df[(df['is_paslon_2'] == 1) & (df['is_paslon_1'] == 0) & (df['is_paslon_3'] == 0)].shape[0].compute()\n",
    "total_paslon_3 = df[(df['is_paslon_3'] == 1) & (df['is_paslon_1'] == 0) & (df['is_paslon_2'] == 0)].shape[0].compute()\n",
    "\n",
    "total_paslon_1_2 = df[(df['is_paslon_1'] == 1) & (df['is_paslon_2'] == 1) & (df['is_paslon_3'] == 0)].shape[0].compute()\n",
    "total_paslon_1_3 = df[(df['is_paslon_1'] == 1) & (df['is_paslon_3'] == 1) & (df['is_paslon_2'] == 0)].shape[0].compute()\n",
    "total_paslon_2_3 = df[(df['is_paslon_2'] == 1) & (df['is_paslon_3'] == 1) & (df['is_paslon_1'] == 0)].shape[0].compute()\n",
    "\n",
    "total_paslon_1_2_3 = df[(df['is_paslon_1'] == 1) & (df['is_paslon_2'] == 1) & (df['is_paslon_3'] == 1)].shape[0].compute()\n",
    "total_unidentified = unidentified_df.shape[0].compute()"
   ]
  },
  {
   "cell_type": "code",
   "execution_count": 8,
   "id": "1a7587dd",
   "metadata": {
    "execution": {
     "iopub.execute_input": "2024-07-08T03:35:00.417911Z",
     "iopub.status.busy": "2024-07-08T03:35:00.417476Z",
     "iopub.status.idle": "2024-07-08T03:35:00.424952Z",
     "shell.execute_reply": "2024-07-08T03:35:00.423768Z"
    },
    "papermill": {
     "duration": 0.016103,
     "end_time": "2024-07-08T03:35:00.427561",
     "exception": false,
     "start_time": "2024-07-08T03:35:00.411458",
     "status": "completed"
    },
    "tags": []
   },
   "outputs": [
    {
     "name": "stdout",
     "output_type": "stream",
     "text": [
      "Total Paslon 1: 3767864\n",
      "Total Paslon 2: 2287732\n",
      "Total Paslon 3: 2195991\n",
      "Total Paslon 1 dan 2: 517156\n",
      "Total Paslon 1 dan 3: 212838\n",
      "Total Paslon 2 dan 3: 179618\n",
      "Total Paslon 1, 2, dan 3: 299844\n",
      "Unidentified : 346892\n"
     ]
    }
   ],
   "source": [
    "# Print hasil perhitungan\n",
    "\n",
    "print(f\"Total Paslon 1: {total_paslon_1}\")\n",
    "print(f\"Total Paslon 2: {total_paslon_2}\")\n",
    "print(f\"Total Paslon 3: {total_paslon_3}\")\n",
    "\n",
    "print(f\"Total Paslon 1 dan 2: {total_paslon_1_2}\")\n",
    "print(f\"Total Paslon 1 dan 3: {total_paslon_1_3}\")\n",
    "print(f\"Total Paslon 2 dan 3: {total_paslon_2_3}\")\n",
    "\n",
    "print(f\"Total Paslon 1, 2, dan 3: {total_paslon_1_2_3}\")\n",
    "print(f\"Unidentified : {total_unidentified}\")"
   ]
  },
  {
   "cell_type": "code",
   "execution_count": 9,
   "id": "9e4e0a7c",
   "metadata": {
    "execution": {
     "iopub.execute_input": "2024-07-08T03:35:00.439050Z",
     "iopub.status.busy": "2024-07-08T03:35:00.438602Z",
     "iopub.status.idle": "2024-07-08T03:35:00.799132Z",
     "shell.execute_reply": "2024-07-08T03:35:00.797535Z"
    },
    "papermill": {
     "duration": 0.36931,
     "end_time": "2024-07-08T03:35:00.801764",
     "exception": false,
     "start_time": "2024-07-08T03:35:00.432454",
     "status": "completed"
    },
    "tags": []
   },
   "outputs": [
    {
     "data": {
      "image/png": "[encoded data removed]",
      "text/plain": [
       "<Figure size 1000x600 with 1 Axes>"
      ]
     },
     "metadata": {},
     "output_type": "display_data"
    }
   ],
   "source": [
    "# Membuat plot menggunakan Matplotlib\n",
    "labels = ['Paslon 1', 'Paslon 2', 'Paslon 3', 'Paslon 1 & 2', 'Paslon 1 & 3', 'Paslon 2 & 3', 'Paslon 1, 2, & 3','Unidentified']\n",
    "values = [total_paslon_1, total_paslon_2, total_paslon_3, total_paslon_1_2, total_paslon_1_3, total_paslon_2_3, total_paslon_1_2_3,total_unidentified]\n",
    "\n",
    "plt.figure(figsize=(10, 6))\n",
    "plt.bar(labels, values, color=['blue', 'green', 'red', 'cyan', 'magenta', 'yellow', 'purple','black'])\n",
    "\n",
    "plt.xlabel('Kategori')\n",
    "plt.ylabel('Jumlah')\n",
    "plt.title('Total Jumlah Pasangan Kandidat')\n",
    "plt.xticks(rotation=45)\n",
    "plt.tight_layout()\n",
    "\n",
    "# Menampilkan plot\n",
    "plt.show()"
   ]
  },
  {
   "cell_type": "code",
   "execution_count": 10,
   "id": "55ae7248",
   "metadata": {
    "execution": {
     "iopub.execute_input": "2024-07-08T03:35:00.814160Z",
     "iopub.status.busy": "2024-07-08T03:35:00.813758Z",
     "iopub.status.idle": "2024-07-08T03:35:00.835682Z",
     "shell.execute_reply": "2024-07-08T03:35:00.834541Z"
    },
    "papermill": {
     "duration": 0.031232,
     "end_time": "2024-07-08T03:35:00.838414",
     "exception": false,
     "start_time": "2024-07-08T03:35:00.807182",
     "status": "completed"
    },
    "tags": []
   },
   "outputs": [],
   "source": [
    "paslon_1_df = df[(df['is_paslon_1'] == 1) & (df['is_paslon_2'] == 0) & (df['is_paslon_3'] == 0)]\n",
    "paslon_2_df = df[(df['is_paslon_2'] == 1) & (df['is_paslon_1'] == 0) & (df['is_paslon_3'] == 0)]\n",
    "paslon_3_df = df[(df['is_paslon_3'] == 1) & (df['is_paslon_1'] == 0) & (df['is_paslon_2'] == 0)]\n",
    "\n",
    "paslon_1_2_df = df[(df['is_paslon_1'] == 1) & (df['is_paslon_2'] == 1) & (df['is_paslon_3'] == 0)]\n",
    "paslon_1_3_df = df[(df['is_paslon_1'] == 1) & (df['is_paslon_3'] == 1) & (df['is_paslon_2'] == 0)]\n",
    "paslon_2_3_df = df[(df['is_paslon_2'] == 1) & (df['is_paslon_3'] == 1) & (df['is_paslon_1'] == 0)]\n",
    "\n",
    "paslon_1_2_3_df = df[(df['is_paslon_1'] == 1) & (df['is_paslon_2'] == 1) & (df['is_paslon_3'] == 1)]"
   ]
  },
  {
   "cell_type": "code",
   "execution_count": 11,
   "id": "03f08b1b",
   "metadata": {
    "execution": {
     "iopub.execute_input": "2024-07-08T03:35:00.851302Z",
     "iopub.status.busy": "2024-07-08T03:35:00.850881Z",
     "iopub.status.idle": "2024-07-08T03:41:41.134299Z",
     "shell.execute_reply": "2024-07-08T03:41:41.132696Z"
    },
    "papermill": {
     "duration": 400.303315,
     "end_time": "2024-07-08T03:41:41.147364",
     "exception": false,
     "start_time": "2024-07-08T03:35:00.844049",
     "status": "completed"
    },
    "tags": []
   },
   "outputs": [
    {
     "data": {
      "text/plain": [
       "['/kaggle/working/classify_president_cat_7.csv']"
      ]
     },
     "execution_count": 11,
     "metadata": {},
     "output_type": "execute_result"
    }
   ],
   "source": [
    "paslon_1_df.to_csv('classify_president_cat_1.csv', single_file=True, index=False)\n",
    "paslon_2_df.to_csv('classify_president_cat_2.csv', single_file=True, index=False)\n",
    "paslon_3_df.to_csv('classify_president_cat_3.csv', single_file=True, index=False)\n",
    "paslon_1_2_df.to_csv('classify_president_cat_4.csv', single_file=True, index=False)\n",
    "paslon_1_3_df.to_csv('classify_president_cat_5.csv', single_file=True, index=False)\n",
    "paslon_2_3_df.to_csv('classify_president_cat_6.csv', single_file=True, index=False)\n",
    "paslon_1_2_3_df.to_csv('classify_president_cat_7.csv', single_file=True, index=False)"
   ]
  }
 ],
 "metadata": {
  "kaggle": {
   "accelerator": "none",
   "dataSources": [
    {
     "datasetId": 5338693,
     "sourceId": 8901148,
     "sourceType": "datasetVersion"
    }
   ],
   "dockerImageVersionId": 30732,
   "isGpuEnabled": false,
   "isInternetEnabled": true,
   "language": "python",
   "sourceType": "notebook"
  },
  "kernelspec": {
   "display_name": "Python 3",
   "language": "python",
   "name": "python3"
  },
  "language_info": {
   "codemirror_mode": {
    "name": "ipython",
    "version": 3
   },
   "file_extension": ".py",
   "mimetype": "text/x-python",
   "name": "python",
   "nbconvert_exporter": "python",
   "pygments_lexer": "ipython3",
   "version": "3.10.13"
  },
  "papermill": {
   "default_parameters": {},
   "duration": 1262.18857,
   "end_time": "2024-07-08T03:41:42.191709",
   "environment_variables": {},
   "exception": null,
   "input_path": "__notebook__.ipynb",
   "output_path": "__notebook__.ipynb",
   "parameters": {},
   "start_time": "2024-07-08T03:20:40.003139",
   "version": "2.5.0"
  }
 },
 "nbformat": 4,
 "nbformat_minor": 5
}
